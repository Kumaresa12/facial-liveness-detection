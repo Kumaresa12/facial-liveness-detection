{
  "nbformat": 4,
  "nbformat_minor": 0,
  "metadata": {
    "colab": {
      "provenance": []
    },
    "kernelspec": {
      "name": "python3",
      "display_name": "Python 3"
    },
    "language_info": {
      "name": "python"
    }
  },
  "cells": [
    {
      "cell_type": "code",
      "execution_count": 1,
      "metadata": {
        "colab": {
          "base_uri": "https://localhost:8080/"
        },
        "id": "sRoNZqEnW6EK",
        "outputId": "24983975-e88c-4679-890d-5c0d71f5f511"
      },
      "outputs": [
        {
          "output_type": "stream",
          "name": "stdout",
          "text": [
            "Mounted at /content/gdrive\n"
          ]
        }
      ],
      "source": [
        "from google.colab import drive\n",
        "drive.mount('/content/gdrive')"
      ]
    },
    {
      "cell_type": "code",
      "source": [
        "!cp -r \"/content/gdrive/MyDrive/final_antispoofing.zip\" \"/content\""
      ],
      "metadata": {
        "id": "4MRF1MJ1XS8X"
      },
      "execution_count": 2,
      "outputs": []
    },
    {
      "cell_type": "code",
      "source": [
        "import zipfile\n",
        "archive = zipfile.ZipFile('/content/final_antispoofing.zip')\n",
        "archive.extractall('/content')"
      ],
      "metadata": {
        "id": "Ue9hOwDgXYZ_"
      },
      "execution_count": 3,
      "outputs": []
    },
    {
      "cell_type": "code",
      "source": [
        "dataset_dir = '/content/final_antispoofing'\n",
        "train_dataset_dir = '/content/final_antispoofing/train'\n",
        "test_dataset_dir = '/content/final_antispoofing/test'"
      ],
      "metadata": {
        "id": "5BcVHZP4YAW3"
      },
      "execution_count": 4,
      "outputs": []
    },
    {
      "cell_type": "code",
      "source": [
        "import os\n",
        "os.mkdir('/content/antispoofing_dataset')\n",
        "os.mkdir('/content/antispoofing_dataset/train')\n",
        "os.mkdir('/content/antispoofing_dataset/test')\n",
        "os.mkdir('/content/antispoofing_dataset/train/real')\n",
        "os.mkdir('/content/antispoofing_dataset/train/spoof')\n",
        "os.mkdir('/content/antispoofing_dataset/test/real')\n",
        "os.mkdir('/content/antispoofing_dataset/test/spoof')"
      ],
      "metadata": {
        "id": "kS1RZ6zlXkRL"
      },
      "execution_count": 5,
      "outputs": []
    },
    {
      "cell_type": "code",
      "source": [
        "train_dir='/content/antispoofing_dataset/train'\n",
        "test_dir = '/content/antispoofing_dataset/test'"
      ],
      "metadata": {
        "id": "9nVV4VflXmxn"
      },
      "execution_count": 6,
      "outputs": []
    },
    {
      "cell_type": "code",
      "source": [
        "import shutil\n",
        "import numpy as np\n",
        "import matplotlib.pyplot as plt\n",
        "import cv2"
      ],
      "metadata": {
        "id": "xl3e69AnXprd"
      },
      "execution_count": 7,
      "outputs": []
    },
    {
      "cell_type": "code",
      "source": [
        "def train_test_splits(data_directory):\n",
        "  for split_type in os.listdir(data_directory):\n",
        "    path_to_split_type = os.path.join(data_directory,split_type)\n",
        "    for category in os.listdir(path_to_split_type):\n",
        "      path_to_category = os.path.join(path_to_split_type,category)\n",
        "      for subject in os.listdir(path_to_category):\n",
        "        path_to_subject = os.path.join(path_to_category,subject)\n",
        "        for img in os.listdir(path_to_subject):\n",
        "          if split_type == 'train':\n",
        "            shutil.copy(os.path.join(path_to_subject,img),os.path.join(train_dir,category,img))\n",
        "          else:\n",
        "            shutil.copy(os.path.join(path_to_subject,img),os.path.join(test_dir,category,img))"
      ],
      "metadata": {
        "id": "ReKEHXpPXrPm"
      },
      "execution_count": 8,
      "outputs": []
    },
    {
      "cell_type": "code",
      "source": [
        "train_test_splits(data_directory=dataset_dir)"
      ],
      "metadata": {
        "id": "Umv5CbIhX03Y"
      },
      "execution_count": 9,
      "outputs": []
    },
    {
      "cell_type": "code",
      "source": [
        "categories = ['real','spoof']"
      ],
      "metadata": {
        "id": "fUKmr9S5X3Z2"
      },
      "execution_count": 10,
      "outputs": []
    },
    {
      "cell_type": "code",
      "source": [
        "print(\"---------------------Exploring Training Datasets--------------------\")\n",
        "for category in categories:\n",
        "  path = os.path.join(train_dir,category)\n",
        "  if category == 'real':\n",
        "    r1 = len(os.listdir(path))\n",
        "  else:\n",
        "    s1 = len(os.listdir(path))\n",
        "  print(\"There are {} images in {} directory\".format(len(os.listdir(path)),category))\n",
        "print(\"There are {} total images in training directory\".format(r1+s1))\n",
        "\n",
        "print(\"-----------------------Exploring Testing Datasets-------------------------\")\n",
        "for category in categories:\n",
        "  path = os.path.join(test_dir,category)\n",
        "  if category == 'real':\n",
        "    r2 = len(os.listdir(path))\n",
        "  else:\n",
        "    s2 = len(os.listdir(path))\n",
        "  print(\"There are {} images in {} directory\".format(len(os.listdir(path)),category))\n",
        "print(\"There are {} total images in testing directory\".format(r2+s2))"
      ],
      "metadata": {
        "colab": {
          "base_uri": "https://localhost:8080/"
        },
        "id": "LjPMgBaHYOYa",
        "outputId": "d37b33a8-57c3-43bd-db4e-4bfdeb7519e9"
      },
      "execution_count": 11,
      "outputs": [
        {
          "output_type": "stream",
          "name": "stdout",
          "text": [
            "---------------------Exploring Training Datasets--------------------\n",
            "There are 2102 images in real directory\n",
            "There are 2118 images in spoof directory\n",
            "There are 4220 total images in training directory\n",
            "-----------------------Exploring Testing Datasets-------------------------\n",
            "There are 477 images in real directory\n",
            "There are 474 images in spoof directory\n",
            "There are 951 total images in testing directory\n"
          ]
        }
      ]
    },
    {
      "cell_type": "markdown",
      "source": [
        "**MODEL**"
      ],
      "metadata": {
        "id": "HIq3mvKLYRVv"
      }
    },
    {
      "cell_type": "code",
      "source": [
        "import tensorflow as tf\n",
        "from tensorflow.keras import datasets, layers, models"
      ],
      "metadata": {
        "id": "D5kqZ5HyYPrW"
      },
      "execution_count": 12,
      "outputs": []
    },
    {
      "cell_type": "code",
      "source": [
        "from keras.preprocessing.image import ImageDataGenerator\n",
        "from keras.models import model_from_json"
      ],
      "metadata": {
        "id": "OGGz1_fqYW9I"
      },
      "execution_count": 13,
      "outputs": []
    },
    {
      "cell_type": "code",
      "source": [
        "train_datagen = ImageDataGenerator(brightness_range=(0.8,1.2),rotation_range=30,width_shift_range=0.2,height_shift_range=0.2,fill_mode='nearest',shear_range=0.2,zoom_range=0.3,rescale=1./255)\n",
        "valid_datagen = ImageDataGenerator(rescale=1./255)"
      ],
      "metadata": {
        "id": "HPBPZC0MYbyQ"
      },
      "execution_count": 14,
      "outputs": []
    },
    {
      "cell_type": "code",
      "source": [
        "train_generator = train_datagen.flow_from_directory(train_dir,target_size=(160,160),color_mode='rgb',\n",
        "                                                    class_mode='binary',batch_size=30,shuffle=True)"
      ],
      "metadata": {
        "colab": {
          "base_uri": "https://localhost:8080/"
        },
        "id": "dYF4vVZkYgC6",
        "outputId": "86c3431b-92d5-4eb6-9577-2d49a4979290"
      },
      "execution_count": 15,
      "outputs": [
        {
          "output_type": "stream",
          "name": "stdout",
          "text": [
            "Found 4220 images belonging to 2 classes.\n"
          ]
        }
      ]
    },
    {
      "cell_type": "code",
      "source": [
        "valid_generator = valid_datagen.flow_from_directory(test_dir,target_size=(160,160),color_mode='rgb',\n",
        "                                                    class_mode='binary',batch_size=30)"
      ],
      "metadata": {
        "colab": {
          "base_uri": "https://localhost:8080/"
        },
        "id": "GSz4EjauYhSN",
        "outputId": "5b8de7ca-2d2c-4762-8be3-25e5c3156a26"
      },
      "execution_count": 16,
      "outputs": [
        {
          "output_type": "stream",
          "name": "stdout",
          "text": [
            "Found 951 images belonging to 2 classes.\n"
          ]
        }
      ]
    },
    {
      "cell_type": "code",
      "source": [
        "cnn = models.Sequential([\n",
        "    layers.Conv2D(filters=64, kernel_size=(3, 3), activation='relu', input_shape=(160, 160, 3)),\n",
        "    layers.MaxPooling2D((2, 2)),\n",
        "    \n",
        "    layers.Flatten(),\n",
        "    layers.Dense(64, activation='relu'),\n",
        "    layers.Dense(1, activation='sigmoid')\n",
        "])"
      ],
      "metadata": {
        "id": "xvYcrOaCYjx1"
      },
      "execution_count": 17,
      "outputs": []
    },
    {
      "cell_type": "code",
      "source": [
        "cnn.compile(optimizer='adam',\n",
        "              loss='binary_crossentropy',\n",
        "              metrics=['accuracy'])"
      ],
      "metadata": {
        "id": "GSwdhQp6YoOv"
      },
      "execution_count": 18,
      "outputs": []
    },
    {
      "cell_type": "code",
      "source": [
        "cnn.fit(train_generator, epochs=5)"
      ],
      "metadata": {
        "colab": {
          "base_uri": "https://localhost:8080/"
        },
        "id": "XWE3mh37YqRp",
        "outputId": "7e314012-0021-4523-b865-5765b2ae7af7"
      },
      "execution_count": 19,
      "outputs": [
        {
          "output_type": "stream",
          "name": "stdout",
          "text": [
            "Epoch 1/5\n",
            "141/141 [==============================] - 221s 2s/step - loss: 0.6617 - accuracy: 0.7889\n",
            "Epoch 2/5\n",
            "141/141 [==============================] - 231s 2s/step - loss: 0.3332 - accuracy: 0.8552\n",
            "Epoch 3/5\n",
            "141/141 [==============================] - 224s 2s/step - loss: 0.2989 - accuracy: 0.8739\n",
            "Epoch 4/5\n",
            "141/141 [==============================] - 217s 2s/step - loss: 0.2994 - accuracy: 0.8742\n",
            "Epoch 5/5\n",
            "141/141 [==============================] - 231s 2s/step - loss: 0.2875 - accuracy: 0.8775\n"
          ]
        },
        {
          "output_type": "execute_result",
          "data": {
            "text/plain": [
              "<keras.callbacks.History at 0x7fd248b9ef10>"
            ]
          },
          "metadata": {},
          "execution_count": 19
        }
      ]
    },
    {
      "cell_type": "code",
      "source": [
        "cnn.evaluate(valid_generator)"
      ],
      "metadata": {
        "colab": {
          "base_uri": "https://localhost:8080/"
        },
        "id": "HoG_qQRJZohO",
        "outputId": "a252e7ca-8560-4757-8975-fad5a9705c27"
      },
      "execution_count": 20,
      "outputs": [
        {
          "output_type": "stream",
          "name": "stdout",
          "text": [
            "32/32 [==============================] - 13s 405ms/step - loss: 0.1657 - accuracy: 0.9201\n"
          ]
        },
        {
          "output_type": "execute_result",
          "data": {
            "text/plain": [
              "[0.1656750589609146, 0.9200841188430786]"
            ]
          },
          "metadata": {},
          "execution_count": 20
        }
      ]
    },
    {
      "cell_type": "code",
      "source": [
        "model_json = cnn.to_json()\n",
        "with open(\"cnn-model.json\", \"w\") as json_file:\n",
        "    json_file.write(model_json)"
      ],
      "metadata": {
        "id": "Max1Ib2_Zsan"
      },
      "execution_count": 21,
      "outputs": []
    },
    {
      "cell_type": "code",
      "source": [
        "cnn.save(\"model.h5\")"
      ],
      "metadata": {
        "id": "GEsMz3A8ZvFO"
      },
      "execution_count": 22,
      "outputs": []
    }
  ]
}